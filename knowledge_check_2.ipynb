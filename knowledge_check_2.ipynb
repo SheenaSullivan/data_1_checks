{
 "cells": [
  {
   "cell_type": "code",
   "execution_count": null,
   "metadata": {},
   "outputs": [],
   "source": [
    "#US gas price trend\n",
    "\n",
    "import matplotlib.pyplot as plt\n",
    "from matplotlib.pyplot import figure\n",
    "from matplotlib import style\n",
    "import pandas as pd\n",
    "import numpy as np"
   ]
  },
  {
   "cell_type": "code",
   "execution_count": null,
   "metadata": {},
   "outputs": [],
   "source": [
    "gas_prices = pd.read_excel(r'assets\\gas_prices.xlsx', 'Data 1', usecols = 'A,B', header=2)\n",
    "gas_prices"
   ]
  },
  {
   "cell_type": "code",
   "execution_count": null,
   "metadata": {},
   "outputs": [],
   "source": [
    "type(gas_prices)\n",
    "gas_prices.dtypes"
   ]
  },
  {
   "cell_type": "code",
   "execution_count": null,
   "metadata": {},
   "outputs": [],
   "source": [
    "print(gas_prices.columns)"
   ]
  },
  {
   "cell_type": "code",
   "execution_count": null,
   "metadata": {},
   "outputs": [],
   "source": [
    "gas_prices.rename(columns = {'Weekly U.S. Regular Conventional Retail Gasoline Prices  (Dollars per Gallon)' : 'Price per Gallon'}, inplace=True)\n",
    "print(gas_prices.columns)"
   ]
  },
  {
   "cell_type": "code",
   "execution_count": null,
   "metadata": {},
   "outputs": [],
   "source": [
    "plt.style.use('classic')\n",
    "plt.figure(figsize = (10,10), dpi=300)\n",
    "gas_prices.plot(kind = 'line', x = 'Date', y = 'Price per Gallon')\n",
    "plt.title('US Gas Price Trend')\n",
    "plt.show()"
   ]
  }
 ],
 "metadata": {
  "language_info": {
   "name": "python"
  },
  "orig_nbformat": 4
 },
 "nbformat": 4,
 "nbformat_minor": 2
}
